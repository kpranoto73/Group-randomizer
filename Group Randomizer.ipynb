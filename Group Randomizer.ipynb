{
 "cells": [
  {
   "cell_type": "code",
   "execution_count": 68,
   "metadata": {
    "collapsed": true
   },
   "outputs": [],
   "source": [
    "import numpy as np\n",
    "import pandas as pd\n",
    "import random\n",
    "\n",
    "employee = pd.read_excel (\"Employee Database.xls\")\n",
    "employee.columns = [\"Nik\", \"Employee's Name\"]\n",
    "employee = employee.drop(employee.index[0])"
   ]
  },
  {
   "cell_type": "code",
   "execution_count": 69,
   "metadata": {
    "collapsed": true
   },
   "outputs": [],
   "source": [
    "x = []\n",
    "for i in range(int(len(employee)/4)+1):\n",
    "    x = x + np.random.choice(4,4, replace = False).tolist()\n",
    "x = x[:len(employee[\"Employee's Name\"])]\n",
    "employee['Group'] = x"
   ]
  },
  {
   "cell_type": "code",
   "execution_count": 70,
   "metadata": {},
   "outputs": [],
   "source": [
    "employee['Group'] = employee['Group'].replace (to_replace = 0, value = \"Group 1\")\n",
    "employee['Group'] = employee['Group'].replace (to_replace = 1, value = \"Group 2\")\n",
    "employee['Group'] = employee['Group'].replace (to_replace = 2, value = \"Group 3\")\n",
    "employee['Group'] = employee['Group'].replace (to_replace = 3, value = \"Group 4\")"
   ]
  },
  {
   "cell_type": "code",
   "execution_count": 71,
   "metadata": {
    "collapsed": true
   },
   "outputs": [],
   "source": [
    "with pd.ExcelWriter ('Output.xlsx') as writer:\n",
    "    employee.to_excel (writer, sheet_name = \"\", index = False)\n",
    "writer.save()"
   ]
  }
 ],
 "metadata": {
  "kernelspec": {
   "display_name": "Python 3",
   "language": "python",
   "name": "python3"
  },
  "language_info": {
   "codemirror_mode": {
    "name": "ipython",
    "version": 3
   },
   "file_extension": ".py",
   "mimetype": "text/x-python",
   "name": "python",
   "nbconvert_exporter": "python",
   "pygments_lexer": "ipython3",
   "version": "3.7.6"
  }
 },
 "nbformat": 4,
 "nbformat_minor": 2
}
